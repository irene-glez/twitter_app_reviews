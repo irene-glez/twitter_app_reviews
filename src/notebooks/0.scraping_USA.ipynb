{
 "cells": [
  {
   "cell_type": "code",
   "execution_count": 1,
   "metadata": {},
   "outputs": [
    {
     "name": "stderr",
     "output_type": "stream",
     "text": [
      "\n",
      "[notice] A new release of pip available: 22.2.2 -> 22.3.1\n",
      "[notice] To update, run: python.exe -m pip install --upgrade pip\n"
     ]
    }
   ],
   "source": [
    "3 !pip install -q google-play-scraper"
   ]
  },
  {
   "cell_type": "code",
   "execution_count": 1,
   "metadata": {},
   "outputs": [],
   "source": [
    "import pandas as pd\n",
    "import seaborn as sns\n",
    "\n",
    "from google_play_scraper import reviews\n",
    "from google_play_scraper import Sort"
   ]
  },
  {
   "cell_type": "code",
   "execution_count": 2,
   "metadata": {},
   "outputs": [],
   "source": [
    "## top social and communications apps \n",
    "apps = {\n",
    "    \"Facebook\": \"com.facebook.katana\",\n",
    "    \"WhatsApp\": \"com.whatsapp\",\n",
    "    \"Facebook Messenger\": \"com.facebook.orca\",\n",
    "    \"Instagram\": \"com.instagram.android\",\n",
    "    \"TikTok\": \"com.zhiliaoapp.musically\",\n",
    "    \"Facebook Lite\": \"com.facebook.lite\",\n",
    "    \"Snapchat\": \"com.snapchat.android\",\n",
    "    \"Twitter\": \"com.twitter.android\",\n",
    "    \"Flipboard\": \"flipboard.app\",\n",
    "    \"Skype\": \"com.skype.raider\",\n",
    "    \"Viber\": \"com.viber.voip\",\n",
    "    \"LINE\" : \"jp.naver.line.android\"\n",
    "   \n",
    "}\n",
    "\n",
    "SORT = Sort.NEWEST\n",
    "N_REVIEWS = 30000\n",
    "reviews_dict =  {k : {} for k in apps}"
   ]
  },
  {
   "cell_type": "code",
   "execution_count": 3,
   "metadata": {},
   "outputs": [],
   "source": [
    "## Scraping reviews\n",
    "for app in apps.keys():\n",
    "    reviews_dict[app], _  = reviews(\n",
    "         apps[app],\n",
    "         lang='en',\n",
    "         country='us',\n",
    "         sort= SORT,\n",
    "         count=N_REVIEWS, \n",
    "         filter_score_with=None\n",
    "     )\n",
    "    assert len(reviews_dict[app]) == N_REVIEWS"
   ]
  },
  {
   "cell_type": "code",
   "execution_count": 4,
   "metadata": {},
   "outputs": [
    {
     "name": "stdout",
     "output_type": "stream",
     "text": [
      "DONE :) \n"
     ]
    },
    {
     "data": {
      "text/html": [
       "<div>\n",
       "<style scoped>\n",
       "    .dataframe tbody tr th:only-of-type {\n",
       "        vertical-align: middle;\n",
       "    }\n",
       "\n",
       "    .dataframe tbody tr th {\n",
       "        vertical-align: top;\n",
       "    }\n",
       "\n",
       "    .dataframe thead th {\n",
       "        text-align: right;\n",
       "    }\n",
       "</style>\n",
       "<table border=\"1\" class=\"dataframe\">\n",
       "  <thead>\n",
       "    <tr style=\"text-align: right;\">\n",
       "      <th></th>\n",
       "      <th>reviewId</th>\n",
       "      <th>content</th>\n",
       "      <th>score</th>\n",
       "      <th>app</th>\n",
       "    </tr>\n",
       "  </thead>\n",
       "  <tbody>\n",
       "    <tr>\n",
       "      <th>0</th>\n",
       "      <td>cc9d48ea-32a2-49d5-bca5-d5977e255b15</td>\n",
       "      <td>Osm</td>\n",
       "      <td>5</td>\n",
       "      <td>Facebook</td>\n",
       "    </tr>\n",
       "    <tr>\n",
       "      <th>1</th>\n",
       "      <td>1dbb126d-d8c3-420d-8067-2fb9d495215f</td>\n",
       "      <td>This app lock my fb account again and again</td>\n",
       "      <td>5</td>\n",
       "      <td>Facebook</td>\n",
       "    </tr>\n",
       "    <tr>\n",
       "      <th>2</th>\n",
       "      <td>e6f0554b-247f-4f0b-924b-c4eac142605f</td>\n",
       "      <td>Fine to view by all according to their thinkin...</td>\n",
       "      <td>1</td>\n",
       "      <td>Facebook</td>\n",
       "    </tr>\n",
       "    <tr>\n",
       "      <th>3</th>\n",
       "      <td>0b65ad98-bd72-4f2b-b21a-a570c6ea2956</td>\n",
       "      <td>Off⁸4peo</td>\n",
       "      <td>1</td>\n",
       "      <td>Facebook</td>\n",
       "    </tr>\n",
       "    <tr>\n",
       "      <th>4</th>\n",
       "      <td>fb4ac6cd-0829-419b-930d-cd147a5c5304</td>\n",
       "      <td>Good</td>\n",
       "      <td>5</td>\n",
       "      <td>Facebook</td>\n",
       "    </tr>\n",
       "  </tbody>\n",
       "</table>\n",
       "</div>"
      ],
      "text/plain": [
       "                               reviewId  \\\n",
       "0  cc9d48ea-32a2-49d5-bca5-d5977e255b15   \n",
       "1  1dbb126d-d8c3-420d-8067-2fb9d495215f   \n",
       "2  e6f0554b-247f-4f0b-924b-c4eac142605f   \n",
       "3  0b65ad98-bd72-4f2b-b21a-a570c6ea2956   \n",
       "4  fb4ac6cd-0829-419b-930d-cd147a5c5304   \n",
       "\n",
       "                                             content  score       app  \n",
       "0                                                Osm      5  Facebook  \n",
       "1        This app lock my fb account again and again      5  Facebook  \n",
       "2  Fine to view by all according to their thinkin...      1  Facebook  \n",
       "3                                           Off⁸4peo      1  Facebook  \n",
       "4                                               Good      5  Facebook  "
      ]
     },
     "execution_count": 4,
     "metadata": {},
     "output_type": "execute_result"
    }
   ],
   "source": [
    "## saving reviews\n",
    "df = pd.DataFrame()\n",
    "for app in apps.keys():\n",
    "    SAVE_DIR = \"data\" + app  + \".csv\"\n",
    "    temp_df = pd.DataFrame(\n",
    "        reviews_dict[app],\n",
    "        columns = [\"reviewId\", \"content\", \"score\"]\n",
    "                          )\n",
    "    temp_df.to_csv(SAVE_DIR, index = False)\n",
    "    temp_df[\"app\"] = app\n",
    "    df = pd.concat((df ,temp_df))\n",
    "df.to_csv(\"../data/all_combined.csv\", index = False)\n",
    "print(\"DONE :) \")\n",
    "df.head()"
   ]
  },
  {
   "cell_type": "code",
   "execution_count": 5,
   "metadata": {},
   "outputs": [
    {
     "data": {
      "text/plain": [
       "(360000, 4)"
      ]
     },
     "execution_count": 5,
     "metadata": {},
     "output_type": "execute_result"
    }
   ],
   "source": [
    "df.shape"
   ]
  },
  {
   "cell_type": "code",
   "execution_count": 6,
   "metadata": {},
   "outputs": [
    {
     "data": {
      "image/png": "[encoded data removed]",
      "text/plain": [
       "<Figure size 432x288 with 1 Axes>"
      ]
     },
     "metadata": {
      "needs_background": "light"
     },
     "output_type": "display_data"
    }
   ],
   "source": [
    "sns.countplot(x = 'app', data=df);"
   ]
  }
 ],
 "metadata": {
  "kernelspec": {
   "display_name": "Python 3.7.4 64-bit",
   "language": "python",
   "name": "python3"
  },
  "language_info": {
   "codemirror_mode": {
    "name": "ipython",
    "version": 3
   },
   "file_extension": ".py",
   "mimetype": "text/x-python",
   "name": "python",
   "nbconvert_exporter": "python",
   "pygments_lexer": "ipython3",
   "version": "3.7.4"
  },
  "orig_nbformat": 4,
  "vscode": {
   "interpreter": {
    "hash": "f9d13b5290330b663afaff99531415167a1442545ab466441da89c47cd128532"
   }
  }
 },
 "nbformat": 4,
 "nbformat_minor": 2
}
